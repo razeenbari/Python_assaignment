{
 "cells": [
  {
   "cell_type": "markdown",
   "metadata": {},
   "source": [
    "# Question no: 1"
   ]
  },
  {
   "cell_type": "code",
   "execution_count": 6,
   "metadata": {},
   "outputs": [
    {
     "name": "stdout",
     "output_type": "stream",
     "text": [
      "Enter 1st number :2.8\n",
      "Enter 2nd number :4\n",
      "What you wanna do: (enter respective number to do respective calculations) \n",
      " 1. Addition \n",
      " 2. Subtraction \n",
      " 3. Multiplication \n",
      " 4. division \n",
      " 5. Modulus \n",
      " 6. Power \n",
      "5\n",
      "Modulus of 2.8 and 4 is 2.8\n"
     ]
    }
   ],
   "source": [
    "num1=eval(input(\"Enter 1st number :\"))\n",
    "num2=eval(input(\"Enter 2nd number :\"))\n",
    "express = int(input(\"What you wanna do: (enter respective number to do respective calculations) \\n 1. Addition \\n 2. Subtraction \\n 3. Multiplication \\n 4. division \\n 5. Modulus \\n 6. Power \\n\"))\n",
    "if express == 1:\n",
    "    print(\"Sum of\",num1,\"and\",num2,\"is\",num1+num2)\n",
    "elif express == 2:\n",
    "    print(\"Subtraction of\",num1,\"and\",num2,\"is\",num1-num2)\n",
    "elif express == 3:\n",
    "    print(\"Multiplication of\",num1,\"and\",num2,\"is\",num1*num2)\n",
    "elif express == 4:\n",
    "    print(\"Division of\",num1,\"and\",num2,\"is\",num1/num2)\n",
    "elif express == 5:\n",
    "    print(\"Modulus of\",num1,\"and\",num2,\"is\",num1%num2)\n",
    "elif express == 6:\n",
    "    print(\"Power of\",num1,\"is\",num2,\"equals to\",num1**num2)\n",
    "else:\n",
    "    print(\"give correct inputs\")"
   ]
  },
  {
   "cell_type": "markdown",
   "metadata": {},
   "source": [
    "# Question no: 2"
   ]
  },
  {
   "cell_type": "code",
   "execution_count": 39,
   "metadata": {},
   "outputs": [
    {
     "name": "stdout",
     "output_type": "stream",
     "text": [
      "[7, 1]\n"
     ]
    }
   ],
   "source": [
    "name = [\"Ali\",\"Omer\",\"Fawad\",7,\"Razeen\",1]\n",
    "number=[]\n",
    "for i in name:\n",
    "    if type(i) == int:\n",
    "        number.append(i)\n",
    "print(number)"
   ]
  },
  {
   "cell_type": "markdown",
   "metadata": {},
   "source": [
    "# Question no: 3"
   ]
  },
  {
   "cell_type": "code",
   "execution_count": 50,
   "metadata": {},
   "outputs": [
    {
     "name": "stdout",
     "output_type": "stream",
     "text": [
      "Key you would like to add: Gender\n",
      "{'name': 'Razeen', 'Age': 19, 'Gender': None}\n"
     ]
    }
   ],
   "source": [
    "dictionary={\"name\":\"Razeen\",\"Age\":19,}\n",
    "key=input(\"Key you would like to add: \")\n",
    "dictionary[str(key)]=None\n",
    "print(dictionary)"
   ]
  },
  {
   "cell_type": "markdown",
   "metadata": {},
   "source": [
    "# Question no: 4"
   ]
  },
  {
   "cell_type": "code",
   "execution_count": 66,
   "metadata": {},
   "outputs": [
    {
     "name": "stdout",
     "output_type": "stream",
     "text": [
      "28\n"
     ]
    }
   ],
   "source": [
    "a = [1,2,3,4,5,6,7]\n",
    "total=0\n",
    "for i in a:\n",
    "    total = total + i\n",
    "print(total)"
   ]
  },
  {
   "cell_type": "markdown",
   "metadata": {},
   "source": [
    "\n",
    "# Question no: 5"
   ]
  },
  {
   "cell_type": "code",
   "execution_count": 67,
   "metadata": {},
   "outputs": [
    {
     "name": "stdout",
     "output_type": "stream",
     "text": [
      "Repeated value is:  [7, 1]\n"
     ]
    }
   ],
   "source": [
    "a=[1,2,3,5,6,7,8,7,1]\n",
    "b=[]\n",
    "repeat=[]\n",
    "for i in a:\n",
    "    if i not in b:\n",
    "        b.append(i)\n",
    "    else:\n",
    "        repeat.append(i)\n",
    "print(\"Repeated value is: \",repeat)"
   ]
  },
  {
   "cell_type": "markdown",
   "metadata": {},
   "source": [
    "# Question no: 6"
   ]
  },
  {
   "cell_type": "code",
   "execution_count": 73,
   "metadata": {},
   "outputs": [
    {
     "name": "stdout",
     "output_type": "stream",
     "text": [
      "Enter key you wanna check: marks\n",
      "key not found\n"
     ]
    }
   ],
   "source": [
    "dic = {\"name\":\"razeen\",\"Age\":19,\"Gender\":\"Male\"}\n",
    "key = str(input(\"Enter key you wanna check: \"))\n",
    "if key in dic.keys():\n",
    "    print(key, \"is already in dictionary\")\n",
    "else:\n",
    "    print(\"key not found\")"
   ]
  },
  {
   "cell_type": "code",
   "execution_count": null,
   "metadata": {},
   "outputs": [],
   "source": []
  }
 ],
 "metadata": {
  "kernelspec": {
   "display_name": "Python 3",
   "language": "python",
   "name": "python3"
  },
  "language_info": {
   "codemirror_mode": {
    "name": "ipython",
    "version": 3
   },
   "file_extension": ".py",
   "mimetype": "text/x-python",
   "name": "python",
   "nbconvert_exporter": "python",
   "pygments_lexer": "ipython3",
   "version": "3.8.3"
  }
 },
 "nbformat": 4,
 "nbformat_minor": 4
}
