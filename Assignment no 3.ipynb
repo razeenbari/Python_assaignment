{
 "cells": [
  {
   "cell_type": "markdown",
   "metadata": {},
   "source": [
    "<b> Ques no 1: </b>\n",
    "Write a Python program to print the following string in a specific format (see the output).\n",
    "\n",
    "Twinkle, twinkle, little star,\n",
    "    How I wonder what you are!\n",
    "        Up above the world so high,\n",
    "        Like a diamond in the sky.\n",
    "\n",
    "Twinkle, twinkle, little star,\n",
    "    How I wonder what you are"
   ]
  },
  {
   "cell_type": "code",
   "execution_count": 7,
   "metadata": {},
   "outputs": [
    {
     "name": "stdout",
     "output_type": "stream",
     "text": [
      "Twinkle, twinkle, little star, \n",
      " \t How I wounder that you are! \n",
      "\t\t Up above the world so high, \n",
      "\t\t Like a diamond in the sky. \n",
      "Twinkle, twinkle, tittle Star, \n",
      "\t How I wonder what you are\n"
     ]
    }
   ],
   "source": [
    "print(\"Twinkle, twinkle, little star, \\n \\t How I wounder that you are! \\n\\t\\t Up above the world so high, \\n\\t\\t Like a diamond in the sky. \\nTwinkle, twinkle, tittle Star, \\n\\t How I wonder what you are\")"
   ]
  },
  {
   "cell_type": "markdown",
   "metadata": {},
   "source": [
    "<b>Ques no 2:</b> Write a Python program to get the Python version you are using"
   ]
  },
  {
   "cell_type": "code",
   "execution_count": 8,
   "metadata": {},
   "outputs": [
    {
     "name": "stdout",
     "output_type": "stream",
     "text": [
      "3.8.3 (default, Jul  2 2020, 17:30:36) [MSC v.1916 64 bit (AMD64)]\n"
     ]
    }
   ],
   "source": [
    "import sys\n",
    "print(sys.version)"
   ]
  },
  {
   "cell_type": "markdown",
   "metadata": {},
   "source": [
    "<b> Ques no 3:</b> Write a Python program to display the current date and time."
   ]
  },
  {
   "cell_type": "code",
   "execution_count": 10,
   "metadata": {},
   "outputs": [
    {
     "name": "stdout",
     "output_type": "stream",
     "text": [
      "2021-10-23 20:14:29.813432\n"
     ]
    }
   ],
   "source": [
    "from datetime import *\n",
    "dt=datetime.today()\n",
    "print(dt)"
   ]
  },
  {
   "cell_type": "markdown",
   "metadata": {},
   "source": [
    "<b>Ques no 4:</b> Write a Python program which accepts the radius of a circle from the user and compute\n",
    "the area."
   ]
  },
  {
   "cell_type": "code",
   "execution_count": 31,
   "metadata": {},
   "outputs": [
    {
     "name": "stdout",
     "output_type": "stream",
     "text": [
      "Enter radius: 7\n",
      "Area of circle is: 153.93804002589985\n"
     ]
    }
   ],
   "source": [
    "import math as m\n",
    "radius=eval(input(\"Enter radius: \"))\n",
    "area=m.pi*radius**2\n",
    "print(\"Area of circle is:\",area)"
   ]
  },
  {
   "cell_type": "markdown",
   "metadata": {},
   "source": [
    "<b>Ques no 5:</b> Write a Python program which accepts the user's first and last name and print them in\n",
    "reverse order with a space between them."
   ]
  },
  {
   "cell_type": "code",
   "execution_count": 29,
   "metadata": {},
   "outputs": [
    {
     "name": "stdout",
     "output_type": "stream",
     "text": [
      "Enter your first name: razeen\n",
      "Enter your last name: bari\n",
      "reverse order of razeen bari is irab neezar\n"
     ]
    }
   ],
   "source": [
    "first_name = input(\"Enter your first name: \")\n",
    "last_name = input(\"Enter your last name: \")\n",
    "name = first_name +\" \"+ last_name\n",
    "r_name=name[::-1]\n",
    "print(\"reverse order of\",name,\"is\",r_name)"
   ]
  },
  {
   "cell_type": "markdown",
   "metadata": {},
   "source": [
    "<b>Ques no 6: </b> Write a python program which takes two inputs from user and print them addition"
   ]
  },
  {
   "cell_type": "code",
   "execution_count": 9,
   "metadata": {},
   "outputs": [
    {
     "name": "stdout",
     "output_type": "stream",
     "text": [
      "Enter first number: 7\n",
      "Enter second number: 5\n",
      "sum of a and b is:  12\n"
     ]
    }
   ],
   "source": [
    "a=eval(input(\"Enter first number: \"))\n",
    "b=eval(input(\"Enter second number: \"))\n",
    "add= a+b\n",
    "print(\"sum of a and b is: \",add)"
   ]
  },
  {
   "cell_type": "markdown",
   "metadata": {},
   "source": [
    "<b>Ques no 7: </b>Write a program which takes 5 inputs from user for different subject’s marks, total it\n",
    "and generate mark sheet using grades ?"
   ]
  },
  {
   "cell_type": "code",
   "execution_count": 12,
   "metadata": {},
   "outputs": [
    {
     "name": "stdout",
     "output_type": "stream",
     "text": [
      "Enter maths marks: 75\n",
      "Enter chemistry marks: 89\n",
      "Enter physics marks: 91\n",
      "Enter english marks: 75\n",
      "Enter urdu marks: 81\n",
      "Total marks are:  411\n",
      "Your percentage is:  82.2 %\n",
      "Your grade is A+\n"
     ]
    }
   ],
   "source": [
    "math=eval(input(\"Enter maths marks: \"))\n",
    "chem=eval(input(\"Enter chemistry marks: \"))\n",
    "phy=eval(input(\"Enter physics marks: \"))\n",
    "eng=eval(input(\"Enter english marks: \"))\n",
    "urdu=eval(input(\"Enter urdu marks: \"))\n",
    "overall=500\n",
    "total=math+chem+phy+urdu+eng\n",
    "print(\"Total marks are: \",total)\n",
    "percentage=(total*100)/overall\n",
    "print(\"Your percentage is: \",percentage,\"%\")\n",
    "if percentage >=80 and percentage < 100:\n",
    "    print(\"Your grade is A+\")\n",
    "elif percentage >=70 and percentage < 80:\n",
    "    print(\"Your grade is A\")\n",
    "elif percentage >=60 and percentage < 70:\n",
    "    print(\"Your grade is B\")\n",
    "elif percentage >=50 and percentage < 60:\n",
    "    print(\"Your grade is C\")\n",
    "elif percentage >=40 and percentage < 50:\n",
    "    print(\"Your grade is D\")\n",
    "elif percentage >=33 and percentage < 40:\n",
    "    print(\"Your grade is E\")\n",
    "elif percentage >=0 and percentage >33:\n",
    "    print(\"You're fail\")\n",
    "else:\n",
    "    print(\"Enter correct marks\")"
   ]
  },
  {
   "cell_type": "markdown",
   "metadata": {},
   "source": [
    "<b>Ques no 8: </b>Write a program which take input from user and identify that the given number is even\n",
    "or odd?"
   ]
  },
  {
   "cell_type": "code",
   "execution_count": 14,
   "metadata": {},
   "outputs": [
    {
     "name": "stdout",
     "output_type": "stream",
     "text": [
      "Enter any number: 2\n",
      "2 is even\n"
     ]
    }
   ],
   "source": [
    "num=int(input(\"Enter any number: \"))\n",
    "if num%2==0:\n",
    "    print(num,\"is even\")\n",
    "else:\n",
    "    print(num,\"is odd\")"
   ]
  },
  {
   "cell_type": "markdown",
   "metadata": {},
   "source": [
    "<b>Ques no 9: </b>Write a program which print the length of the list?"
   ]
  },
  {
   "cell_type": "code",
   "execution_count": 28,
   "metadata": {},
   "outputs": [
    {
     "name": "stdout",
     "output_type": "stream",
     "text": [
      "lenght of list A is:  6\n"
     ]
    }
   ],
   "source": [
    "A = [2,4,5,9,8,7]\n",
    "print(\"lenght of list A is: \",len(A))"
   ]
  },
  {
   "cell_type": "markdown",
   "metadata": {},
   "source": [
    "<b>Ques no 10:</b> Write a Python program to sum all the numeric items in a list?"
   ]
  },
  {
   "cell_type": "code",
   "execution_count": 27,
   "metadata": {},
   "outputs": [
    {
     "name": "stdout",
     "output_type": "stream",
     "text": [
      "sum of list is: 45\n"
     ]
    }
   ],
   "source": [
    "A=[1,2,3,4,5,6,7,8,9]\n",
    "total=0\n",
    "for i in A:\n",
    "    total=total+i\n",
    "print(\"sum of list is:\",total)"
   ]
  },
  {
   "cell_type": "markdown",
   "metadata": {},
   "source": [
    "<b>Ques no 11: </b>Write a Python program to get the largest number from a numeric list."
   ]
  },
  {
   "cell_type": "code",
   "execution_count": 26,
   "metadata": {},
   "outputs": [
    {
     "name": "stdout",
     "output_type": "stream",
     "text": [
      "Maximum number in list is:  97\n"
     ]
    }
   ],
   "source": [
    "A=[52,49,56,97,8,56,24]\n",
    "maxi=0\n",
    "for i in A:\n",
    "    if i>maxi:\n",
    "        maxi=i\n",
    "print(\"Maximum number in list is: \",maxi)"
   ]
  },
  {
   "cell_type": "markdown",
   "metadata": {},
   "source": [
    "<b>Ques no 12: </b>Take a list, say for example this one:\n",
    "a = [1, 1, 2, 3, 5, 8, 13, 21, 34, 55, 89].\n",
    "Write a program that prints out all the elements of the list that are less than 5."
   ]
  },
  {
   "cell_type": "code",
   "execution_count": 25,
   "metadata": {},
   "outputs": [
    {
     "name": "stdout",
     "output_type": "stream",
     "text": [
      "1\n",
      "1\n",
      "2\n",
      "3\n"
     ]
    }
   ],
   "source": [
    "a = [1, 1, 2, 3, 5, 8, 13, 21, 34, 55, 89]\n",
    "for i in a:\n",
    "    if i<5:\n",
    "        print(i)"
   ]
  },
  {
   "cell_type": "code",
   "execution_count": null,
   "metadata": {},
   "outputs": [],
   "source": []
  }
 ],
 "metadata": {
  "kernelspec": {
   "display_name": "Python 3",
   "language": "python",
   "name": "python3"
  },
  "language_info": {
   "codemirror_mode": {
    "name": "ipython",
    "version": 3
   },
   "file_extension": ".py",
   "mimetype": "text/x-python",
   "name": "python",
   "nbconvert_exporter": "python",
   "pygments_lexer": "ipython3",
   "version": "3.8.3"
  }
 },
 "nbformat": 4,
 "nbformat_minor": 4
}
